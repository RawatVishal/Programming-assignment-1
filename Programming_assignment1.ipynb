{
 "cells": [
  {
   "cell_type": "code",
   "execution_count": 1,
   "id": "f4974b62",
   "metadata": {},
   "outputs": [
    {
     "name": "stdout",
     "output_type": "stream",
     "text": [
      "Hello Python\n"
     ]
    }
   ],
   "source": [
    "#Q1\n",
    "print(\"Hello Python\")"
   ]
  },
  {
   "cell_type": "code",
   "execution_count": 8,
   "id": "45615e83",
   "metadata": {},
   "outputs": [
    {
     "name": "stdout",
     "output_type": "stream",
     "text": [
      "enter a number: 8\n",
      "enter another number: 3\n",
      "sum : 11\n",
      "division : 2.6666666666666665\n"
     ]
    }
   ],
   "source": [
    "#Q2\n",
    "a=int(input('enter a number: '))\n",
    "b=int(input('enter another number: '))\n",
    "print(\"sum :\",a+b)\n",
    "print(\"division :\",a/b)"
   ]
  },
  {
   "cell_type": "code",
   "execution_count": 10,
   "id": "231eea78",
   "metadata": {},
   "outputs": [
    {
     "name": "stdout",
     "output_type": "stream",
     "text": [
      "enter value of base: 10\n",
      "enter value of height: 12\n",
      "60.0\n"
     ]
    }
   ],
   "source": [
    "#Q3\n",
    "base = int(input('enter value of base: '))\n",
    "height = int(input('enter value of height: '))\n",
    "Area_of_Triangle = (base*height)/2\n",
    "print(Area_of_Triangle)"
   ]
  },
  {
   "cell_type": "code",
   "execution_count": 14,
   "id": "db34c829",
   "metadata": {},
   "outputs": [
    {
     "name": "stdout",
     "output_type": "stream",
     "text": [
      "enter value for a: wwifewf\n",
      "enter value for b: fqhebod\n",
      "value of a:  fqhebod\n",
      "value of b:  wwifewf\n"
     ]
    }
   ],
   "source": [
    "#Q4\n",
    "a = input(\"enter value for a: \")\n",
    "b = input(\"enter value for b: \")\n",
    "a , b = b , a\n",
    "print(\"value of a: \",a)\n",
    "print(\"value of b: \",b)"
   ]
  },
  {
   "cell_type": "code",
   "execution_count": 21,
   "id": "9f23abab",
   "metadata": {},
   "outputs": [
    {
     "name": "stdout",
     "output_type": "stream",
     "text": [
      "0.4670770996143806\n"
     ]
    }
   ],
   "source": [
    "#Q5\n",
    "import random\n",
    "a = random.random()\n",
    "print(a)"
   ]
  },
  {
   "cell_type": "code",
   "execution_count": null,
   "id": "8ff54c61",
   "metadata": {},
   "outputs": [],
   "source": []
  },
  {
   "cell_type": "code",
   "execution_count": null,
   "id": "ee933d6a",
   "metadata": {},
   "outputs": [],
   "source": []
  }
 ],
 "metadata": {
  "kernelspec": {
   "display_name": "Python 3 (ipykernel)",
   "language": "python",
   "name": "python3"
  },
  "language_info": {
   "codemirror_mode": {
    "name": "ipython",
    "version": 3
   },
   "file_extension": ".py",
   "mimetype": "text/x-python",
   "name": "python",
   "nbconvert_exporter": "python",
   "pygments_lexer": "ipython3",
   "version": "3.9.7"
  }
 },
 "nbformat": 4,
 "nbformat_minor": 5
}
